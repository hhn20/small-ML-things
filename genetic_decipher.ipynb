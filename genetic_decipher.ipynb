{
  "nbformat": 4,
  "nbformat_minor": 0,
  "metadata": {
    "colab": {
      "name": "cipher.ipynb",
      "provenance": [],
      "collapsed_sections": []
    },
    "kernelspec": {
      "name": "python3",
      "display_name": "Python 3"
    }
  },
  "cells": [
    {
      "cell_type": "code",
      "metadata": {
        "id": "BBpA_XGObWrL",
        "colab_type": "code",
        "colab": {}
      },
      "source": [
        "import numpy as np\n",
        "import os\n",
        "import requests\n",
        "import re\n",
        "import random\n",
        "from math import inf\n",
        "import string"
      ],
      "execution_count": 0,
      "outputs": []
    },
    {
      "cell_type": "code",
      "metadata": {
        "id": "hg0fVS18apUW",
        "colab_type": "code",
        "outputId": "3a2fbdc1-fe1d-47d6-f836-fc12a24e8e35",
        "colab": {
          "base_uri": "https://localhost:8080/",
          "height": 54
        }
      },
      "source": [
        "#creating the true_mapping. This is what our algorithm will have to find out\n",
        "\n",
        "lets=list(map(chr, range(ord('a'), ord('z')+1)))\n",
        "\n",
        "def create_random_mapping():\n",
        "  mapping=dict()\n",
        "  nl=np.random.permutation(lets)\n",
        "  for i in range(len(lets)):\n",
        "    mapping[lets[i]]= nl[i]\n",
        "  return(mapping)\n",
        "\n",
        "true_mapping = create_random_mapping()\n",
        "print(true_mapping)"
      ],
      "execution_count": 2,
      "outputs": [
        {
          "output_type": "stream",
          "text": [
            "{'a': 'o', 'b': 'b', 'c': 'u', 'd': 't', 'e': 'y', 'f': 'r', 'g': 'v', 'h': 'n', 'i': 'a', 'j': 'd', 'k': 'g', 'l': 'h', 'm': 'e', 'n': 'j', 'o': 'w', 'p': 'p', 'q': 'x', 'r': 'k', 's': 'l', 't': 'i', 'u': 'm', 'v': 'z', 'w': 's', 'x': 'f', 'y': 'c', 'z': 'q'}\n"
          ],
          "name": "stdout"
        }
      ]
    },
    {
      "cell_type": "code",
      "metadata": {
        "id": "Kb6p1p17nJLB",
        "colab_type": "code",
        "colab": {}
      },
      "source": [
        "#creating the markov models for unigram and bigram models\n",
        "#bigram probs have add one smoothing\n",
        "\n",
        "bi=np.ones((26,26))\n",
        "uni=np.zeros(26)"
      ],
      "execution_count": 0,
      "outputs": []
    },
    {
      "cell_type": "code",
      "metadata": {
        "id": "LfN36BArckNH",
        "colab_type": "code",
        "colab": {}
      },
      "source": [
        "#helper functions\n",
        "\n",
        "def update_uni(c):\n",
        "  uni[ord(c)-97]+=1\n",
        "\n",
        "def update_bi(ch1,ch2):\n",
        "  bi[ord(ch1)-97,ord(ch2)-97]+=1\n",
        "\n",
        "def word_prob(word):\n",
        "  i=word[0]\n",
        "  log_sum=np.log(uni[ord(i)-97])\n",
        "  for j in word[1:]:\n",
        "    log_sum+=np.log(bi[ord(i)-97,ord(j)-97])\n",
        "    i=j\n",
        "  return log_sum\n",
        "\n",
        "def seq_prob(words):\n",
        "  if type(words) == str:\n",
        "    words = words.split()\n",
        "  sump = 0\n",
        "  for word in words:\n",
        "    sump += word_prob(word)\n",
        "  return sump"
      ],
      "execution_count": 0,
      "outputs": []
    },
    {
      "cell_type": "code",
      "metadata": {
        "id": "S8Y9vkyprqsT",
        "colab_type": "code",
        "colab": {}
      },
      "source": [
        "#loading moby dick to calculate unigram and bigram probabilities\n",
        "\n",
        "import urllib\n",
        "user_agent = 'Mozilla/5.0 (Windows; U; Windows NT 5.1; en-US; rv:1.9.0.7) Gecko/2009021910 Firefox/3.0.7'\n",
        "\n",
        "headers={'User-Agent':user_agent,} \n",
        "url = 'https://lazyprogrammer.me/course_files/moby_dick.txt'\n",
        "request=urllib.request.Request(url,None,headers) #The assembled request\n",
        "file = urllib.request.urlopen(request)\n",
        "f= open(\"/content/sample_data/moby_dick.txt\",\"w+\")\n",
        "for line in file:\n",
        "\tdecoded_line = line.decode(\"utf-8\")\n",
        "\tf.write(decoded_line)\n"
      ],
      "execution_count": 0,
      "outputs": []
    },
    {
      "cell_type": "code",
      "metadata": {
        "id": "WFt1Z26X7qOl",
        "colab_type": "code",
        "colab": {}
      },
      "source": [
        "#computing unigram and bigram probabilities\n",
        "\n",
        "\n",
        "regex = re.compile('[^a-zA-Z]')\n",
        "\n",
        "for line in open('/content/sample_data/moby_dick.txt'):\n",
        "  line=line.rstrip()\n",
        "  if line:\n",
        "    line=regex.sub(' ',line)\n",
        "    li=line.lower().split()\n",
        "    for token in li:\n",
        "      update_uni(token[0])\n",
        "      i=token[0]\n",
        "      for j in token[1:]:\n",
        "        update_bi(i,j)\n",
        "        i=j\n",
        "\n",
        "uni=uni/sum(uni)\n",
        "bi=bi/bi.sum(axis=1,keepdims=True)\n"
      ],
      "execution_count": 0,
      "outputs": []
    },
    {
      "cell_type": "code",
      "metadata": {
        "id": "iLCFRzEqmEpC",
        "colab_type": "code",
        "outputId": "836ba835-42f5-455e-f7fb-65e488f39330",
        "colab": {
          "base_uri": "https://localhost:8080/",
          "height": 34
        }
      },
      "source": [
        "seq_prob('hello world')"
      ],
      "execution_count": 7,
      "outputs": [
        {
          "output_type": "execute_result",
          "data": {
            "text/plain": [
              "-24.670814081067583"
            ]
          },
          "metadata": {
            "tags": []
          },
          "execution_count": 7
        }
      ]
    },
    {
      "cell_type": "code",
      "metadata": {
        "id": "yg3BmyzHFLAK",
        "colab_type": "code",
        "colab": {}
      },
      "source": [
        " #Our message that we are going to code\n",
        " \n",
        "#  message = '''I then lounged down the street and found,\n",
        "# as I expected, that there was a mews in a lane which runs down\n",
        "# by one wall of the garden. I lent the ostlers a hand in rubbing\n",
        "# down their horses, and received in exchange twopence, a glass of\n",
        "# half-and-half, two fills of shag tobacco, and as much information\n",
        "# as I could desire about Miss Adler, to say nothing of half a dozen\n",
        "# other people in the neighbourhood in whom I was not in the least\n",
        "# interested, but whose biographies I was compelled to listen to.\n",
        "# '''\n",
        " \n",
        " message = '''Imagine yourself as a kid, arriving home from school.\n",
        "  You find your dad waiting. He cheerfully suggests that you light a bonfire together.\n",
        "  You love bonfires, so you say yes and excitedly follow him outside.\n",
        "  But once the firewood is all in place, something terrible happens.\n",
        "  Your dad picks you up and throws you on top of the firewood.\n",
        "  Turns out he wants to barbecue you – because God commanded him to.\n",
        "  That’s essentially the biblical story of Abraham’s near-sacrifice of his son.\n",
        "  If you were that kid about to be sacrificed, would you think God was good? Probably not.\n",
        "  A God who can think of no other way to test his subjects’ loyalty than to have them sacrifice their own children is pretty cruel.\n",
        "  Of course, in Abraham’s case, God intervened at the very last minute and spared him the sacrifice of his son.\n",
        "  But don’t take that as evidence of God’s mercy, because God isn’t always so kind.\n",
        "  Take Jephthah, whose story is told in the Book of Judges in the Old Testament.\n",
        "  Jephthah was an Israelite general who badly needed a win over his rivals.\n",
        "  He promised that if God would help him defeat his enemies, he’d sacrifice whomever or whatever he first saw when he returned home.\n",
        "  Jephthah defeated his enemies. Returning home to celebrate, who should first cross his path but his beautiful daughter?\n",
        "  With horror, Jephthah realized that in order to keep his promise to God, he had to sacrifice her.\n",
        "  God didn’t intervene to stop him, and poor Jephthah’s daughter was condemned to death.\n",
        "  Not only does the God of the Bible constantly seek to test his followers’ loyalty in cruel ways, he also visits severe and violent punishment on innocents.\n",
        "  For instance, the books of Joshua and Judges in the Old Testament tell of the Israelite campaigns to take over the Promised Land,\n",
        "  the area we now know as Israel. This area was home to a number of tribes, which God encouraged the Israelites to wipe out.\n",
        "  According to the Bible, for instance, God instructed the Israelites to destroy the Amalekites,\n",
        "  one of the peoples inhabiting the area – not just by killing men and women, but also murdering children and infants, especially boys.\n",
        "  Virgin girls were to be kept as concubines. In today’s terms, God’s commands for sexual assault and the slaughter of innocents would be deemed war crimes.\n",
        "  So maybe we should look elsewhere for an ethical role model.'''\n",
        "\n",
        "#  Not so very long ago, people could own other people.\n",
        "#  They could go to a market, pay cash, and return home with a slave, a person whose life they had absolute power over.\n",
        "#  Thank goodness slavery has been abolished, because it’s a morally reprehensible practice.\n",
        "#  But slaves aren’t the only people who have historically been denied their rights.\n",
        "#  Women, for example, have also had very limited rights until very recently.\n",
        "#  In Britain, for instance, it was only in 1928 that women gained voting rights equal to those of men.\n",
        "#  Swiss women were only given those rights in 1971. Some countries, such as Saudi Arabia, have only granted women this basic democratic right in the last few years.\n",
        "#  Much of the oppression women and other disenfranchised people have faced has been justified by religion.\n",
        "#  That’s because the holy books often present very problematic views of certain groups of people.\n",
        "#  The Tenth Commandment of the Bible, “Thou shalt not covet,” counts a man’s wife and his servants as among his possessions, like his ox and house.\n",
        "#  The Quran also posits women as less than men – a big reason why women’s rights are severely curtailed in orthodox Muslim countries like Saudi Arabia even today.\n",
        "#  The revulsion against slavery that we feel today, as well as our embrace of women’s rights, is an example of how social morals have changed.\n",
        "#  Our morals aren’t static – they evolve and develop.\n",
        "#  If we were to stick to the moral guidance and codes of holy books like the Bible and the Quran, we would be killing innocent children and treating women like property.\n",
        "#  Even if some of these terrible things still go on, there’s now widespread consensus that such acts are morally reprehensible.\n",
        "#  Indeed, we can blame holy books in part for the violence that has taken place in the world.\n",
        "#  Adolf Hitler, the Nazi leader of Germany during World War II, was so successful in implementing the Holocaust – the genocide of 6 million Jews in Europe – partly because he built on centuries of anti-Semitic prejudice implanted in the minds of German Catholics and Protestants, prejudice derived from the story of Judas’ betrayal of Jesus in the Bible.\n",
        "#  Texts with these kinds of terrible prejudice woven into them have nothing to teach us about morality.\n",
        "#  If we want to be moral, only our human faculties – our reason and empathy – can show us the way.\n"
      ],
      "execution_count": 0,
      "outputs": []
    },
    {
      "cell_type": "code",
      "metadata": {
        "id": "iT69yuW4K2nC",
        "colab_type": "code",
        "colab": {}
      },
      "source": [
        "#Encoding and Decoding functions\n",
        "\n",
        "def encode(msg):\n",
        "  msg = msg.lower()\n",
        "  msg = regex.sub(' ',msg)\n",
        "  encoded_msg = []\n",
        "  for i in msg:\n",
        "    ch = i\n",
        "    if i in true_mapping:\n",
        "      ch = true_mapping[i]\n",
        "    encoded_msg.append(ch)\n",
        "  return(''.join(encoded_msg))\n",
        "\n",
        "encoded_msg = encode(message)\n",
        "\n",
        "def decode(msg,mapping):\n",
        "  decoded_msg = []\n",
        "  for i in msg:\n",
        "    ch = i\n",
        "    if i in mapping:\n",
        "      ch = mapping[i]\n",
        "    decoded_msg.append(ch)\n",
        "  return(''.join(decoded_msg))"
      ],
      "execution_count": 0,
      "outputs": []
    },
    {
      "cell_type": "code",
      "metadata": {
        "id": "9iKLGI5KOwTu",
        "colab_type": "code",
        "colab": {}
      },
      "source": [
        "#creating an initial dna pool of 20 dna mappings\n",
        " \n",
        "dna_pool = []\n",
        "for _ in range(20):\n",
        "  dna = list(string.ascii_lowercase)\n",
        "  random.shuffle(dna)\n",
        "  dna_pool.append(dna)"
      ],
      "execution_count": 0,
      "outputs": []
    },
    {
      "cell_type": "code",
      "metadata": {
        "id": "-fRXdzUFWvnA",
        "colab_type": "code",
        "colab": {}
      },
      "source": [
        "#function to  create offspring\n",
        "\n",
        "def create_kids(dna_pool,n_kids):\n",
        "  kids=[]\n",
        "  for dna in dna_pool:\n",
        "    for nums in range(n_kids):\n",
        "      dna_c=dna.copy()\n",
        "      n1=random.choice(list(range(26)))\n",
        "      n2=random.choice(list(range(26)))\n",
        "      (dna_c[n1],dna_c[n2])=(dna_c[n2],dna_c[n1])\n",
        "      kids.append(dna_c)\n",
        "  kids+=dna_pool\n",
        "  return(kids)\n",
        "\n",
        "a=create_kids(dna_pool,3)"
      ],
      "execution_count": 0,
      "outputs": []
    },
    {
      "cell_type": "code",
      "metadata": {
        "id": "IfTN5tkCaAPL",
        "colab_type": "code",
        "outputId": "5bf5af4c-b5ff-4d2a-a2ae-71d101271083",
        "colab": {
          "base_uri": "https://localhost:8080/",
          "height": 185
        }
      },
      "source": [
        "#genetic algorithm implementation. 5 best from each generation survive\n",
        "message=message.lower()\n",
        "best_score = -inf\n",
        "best_mapping = None\n",
        "def genetic_algo(dna_pool,gens,msg):\n",
        "  global best_score\n",
        "  global best_mapping\n",
        "  dna_list=dna_pool[:]\n",
        "  for i in range(gens):\n",
        "    if i>0:\n",
        "      dna_pool=create_kids(dna_pool,3)\n",
        "    fitness = {}\n",
        "    for dna in dna_pool:  \n",
        "      mapping ={}\n",
        "      for k,v in zip(lets,dna):\n",
        "        mapping[k]=v\n",
        "      dec = decode(msg,mapping)\n",
        "      a=seq_prob(dec)\n",
        "      fitness[''.join(dna)]=a\n",
        "      if a>best_score:\n",
        "        best_score=a\n",
        "        best_mapping=mapping\n",
        "    #survival of the fittest\n",
        "    sorted_dna = sorted(fitness.items(), key=lambda x: x[1], reverse=True)\n",
        "    dna_pool = [list(k) for k, v in sorted_dna[:5]]\n",
        "    if i%100==0:\n",
        "      print(\"generation:\",i,\"avg fittness:\",np.mean(list(fitness.values())),\"best score:\",best_score)\n",
        "\n",
        "genetic_algo(dna_pool,1000,encoded_msg)"
      ],
      "execution_count": 12,
      "outputs": [
        {
          "output_type": "stream",
          "text": [
            "generation: 0 avg fittness: -10184.433155247652 best score: -8524.571783246283\n",
            "generation: 100 avg fittness: -6199.462815666449 best score: -5951.927449090684\n",
            "generation: 200 avg fittness: -6002.456780235513 best score: -5697.452696222842\n",
            "generation: 300 avg fittness: -5841.2743861645495 best score: -5531.280289698856\n",
            "generation: 400 avg fittness: -5482.964069338764 best score: -4977.584801199018\n",
            "generation: 500 avg fittness: -5294.462126889632 best score: -4696.201050208556\n",
            "generation: 600 avg fittness: -5196.266304821369 best score: -4659.994176539896\n",
            "generation: 700 avg fittness: -5171.370622328396 best score: -4658.6165903093415\n",
            "generation: 800 avg fittness: -4964.532918134218 best score: -4658.6165903093415\n",
            "generation: 900 avg fittness: -5342.587461038709 best score: -4658.6165903093415\n"
          ],
          "name": "stdout"
        }
      ]
    },
    {
      "cell_type": "code",
      "metadata": {
        "id": "18EMtviJkqx2",
        "colab_type": "code",
        "outputId": "54e9d6ce-478b-4697-ba79-2aa3ab534050",
        "colab": {
          "base_uri": "https://localhost:8080/",
          "height": 84
        }
      },
      "source": [
        "decoded_message = decode(encoded_msg, best_mapping)\n",
        "\n",
        "print(\"LL of decoded message:\", seq_prob(decoded_message))\n",
        "print(\"LL of true message:\", seq_prob(regex.sub(' ', message.lower())))\n",
        "\n",
        "\n",
        "print(\"the wrong letters are:\\n\")\n",
        "for true, v in true_mapping.items():\n",
        "  pred = best_mapping[v]\n",
        "  if true != pred:\n",
        "    print(\"true: %s, pred: %s\" % (true, pred))"
      ],
      "execution_count": 13,
      "outputs": [
        {
          "output_type": "stream",
          "text": [
            "LL of decoded message: -4658.6165903093415\n",
            "LL of true message: -4658.6165903093415\n",
            "the wrong letters are:\n",
            "\n"
          ],
          "name": "stdout"
        }
      ]
    },
    {
      "cell_type": "code",
      "metadata": {
        "id": "F_JUPpbSwxlX",
        "colab_type": "code",
        "outputId": "0499631e-b3a6-479e-bc9c-946aa5c3a5f6",
        "colab": {
          "base_uri": "https://localhost:8080/",
          "height": 121
        }
      },
      "source": [
        "# print the final decoded message\n",
        "\n",
        "print(\"Decoded message:\\n\", decoded_message)\n",
        "\n",
        "print(\"\\nTrue message:\\n\", regex.sub(' ',message))"
      ],
      "execution_count": 14,
      "outputs": [
        {
          "output_type": "stream",
          "text": [
            "Decoded message:\n",
            " imagine yourself as a kid  arriving home from school   you find your dad waiting  he cheerfully suggests that you light a bonfire together   you love bonfires  so you say yes and excitedly follow him outside   but once the firewood is all in place  something terrible happens   your dad picks you up and throws you on top of the firewood   turns out he wants to barbecue you   because god commanded him to   that s essentially the biblical story of abraham s near sacrifice of his son   if you were that kid about to be sacrificed  would you think god was good  probably not   a god who can think of no other way to test his subjects  loyalty than to have them sacrifice their own children is pretty cruel   of course  in abraham s case  god intervened at the very last minute and spared him the sacrifice of his son   but don t take that as evidence of god s mercy  because god isn t always so kind   take jephthah  whose story is told in the book of judges in the old testament   jephthah was an israelite general who badly needed a win over his rivals   he promised that if god would help him defeat his enemies  he d sacrifice whomever or whatever he first saw when he returned home   jephthah defeated his enemies  returning home to celebrate  who should first cross his path but his beautiful daughter   with horror  jephthah realized that in order to keep his promise to god  he had to sacrifice her   god didn t intervene to stop him  and poor jephthah s daughter was condemned to death   not only does the god of the bible constantly seek to test his followers  loyalty in cruel ways  he also visits severe and violent punishment on innocents   for instance  the books of joshua and judges in the old testament tell of the israelite campaigns to take over the promised land   the area we now know as israel  this area was home to a number of tribes  which god encouraged the israelites to wipe out   according to the bible  for instance  god instructed the israelites to destroy the amalekites   one of the peoples inhabiting the area   not just by killing men and women  but also murdering children and infants  especially boys   virgin girls were to be kept as concubines  in today s terms  god s commands for sexual assault and the slaughter of innocents would be deemed war crimes   so maybe we should look elsewhere for an ethical role model \n",
            "\n",
            "True message:\n",
            " imagine yourself as a kid  arriving home from school   you find your dad waiting  he cheerfully suggests that you light a bonfire together   you love bonfires  so you say yes and excitedly follow him outside   but once the firewood is all in place  something terrible happens   your dad picks you up and throws you on top of the firewood   turns out he wants to barbecue you   because god commanded him to   that s essentially the biblical story of abraham s near sacrifice of his son   if you were that kid about to be sacrificed  would you think god was good  probably not   a god who can think of no other way to test his subjects  loyalty than to have them sacrifice their own children is pretty cruel   of course  in abraham s case  god intervened at the very last minute and spared him the sacrifice of his son   but don t take that as evidence of god s mercy  because god isn t always so kind   take jephthah  whose story is told in the book of judges in the old testament   jephthah was an israelite general who badly needed a win over his rivals   he promised that if god would help him defeat his enemies  he d sacrifice whomever or whatever he first saw when he returned home   jephthah defeated his enemies  returning home to celebrate  who should first cross his path but his beautiful daughter   with horror  jephthah realized that in order to keep his promise to god  he had to sacrifice her   god didn t intervene to stop him  and poor jephthah s daughter was condemned to death   not only does the god of the bible constantly seek to test his followers  loyalty in cruel ways  he also visits severe and violent punishment on innocents   for instance  the books of joshua and judges in the old testament tell of the israelite campaigns to take over the promised land   the area we now know as israel  this area was home to a number of tribes  which god encouraged the israelites to wipe out   according to the bible  for instance  god instructed the israelites to destroy the amalekites   one of the peoples inhabiting the area   not just by killing men and women  but also murdering children and infants  especially boys   virgin girls were to be kept as concubines  in today s terms  god s commands for sexual assault and the slaughter of innocents would be deemed war crimes   so maybe we should look elsewhere for an ethical role model \n"
          ],
          "name": "stdout"
        }
      ]
    },
    {
      "cell_type": "code",
      "metadata": {
        "id": "gTop7zij9jQK",
        "colab_type": "code",
        "colab": {}
      },
      "source": [
        "'''This deciphering was based on the markov model of language. We have used bigrams and unigrams. We have used Moby Dick as our main text corpus'''"
      ],
      "execution_count": 0,
      "outputs": []
    }
  ]
}